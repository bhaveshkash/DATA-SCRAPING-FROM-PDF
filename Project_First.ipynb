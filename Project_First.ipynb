{
 "cells": [
  {
   "cell_type": "markdown",
   "metadata": {},
   "source": [
    "# Separate Tables for separate PDF's :"
   ]
  },
  {
   "cell_type": "code",
   "execution_count": 1,
   "metadata": {},
   "outputs": [],
   "source": [
    "import tabula \n",
    "import pandas as pd\n",
    "from tabulate import tabulate\n",
    "from PyPDF2 import PdfFileReader\n",
    "import fitz\n",
    "import streamlit as st\n",
    "import os\n",
    "import time\n",
    "# import xlwt import workbook\n",
    "from xlwt.Workbook import *\n",
    "from pandas import ExcelWriter\n",
    "import xlsxwriter\n",
    "# wb = Workbook\n",
    "# import openpyxl\n",
    " \n"
   ]
  },
  {
   "cell_type": "code",
   "execution_count": 2,
   "metadata": {},
   "outputs": [],
   "source": [
    "# writer = pd.ExcelWriter('multiple.xlsx', engine='xlsxwriter')\n",
    "\n",
    "# writer = pd.ExcelWriter('multiple.xlsx', engine = 'xlsxwriter')\n",
    "# df1.to_excel(writer, sheet_name = 'x1')\n",
    "# df2.to_excel(writer, sheet_name = 'x2')\n",
    "# writer.save()\n",
    "# writer.close()"
   ]
  },
  {
   "cell_type": "code",
   "execution_count": 3,
   "metadata": {},
   "outputs": [
    {
     "name": "stdout",
     "output_type": "stream",
     "text": [
      "6\n"
     ]
    }
   ],
   "source": [
    "pdf_path = r'aiga 084_13 methodology to establish product carbon footprint1.pdf'\n",
    "\n",
    "aiga_084_13 = tabula.read_pdf(pdf_path, stream=True,pages='all')\n",
    "# read_pdf returns list of DataFrames\n",
    "print(len(aiga_084_13))\n",
    "# dfs[0]\n",
    "for i in range(len(aiga_084_13)):\n",
    "    aiga_084_13[i].to_csv('aiga_084_13'+str(i)+'.csv')\n"
   ]
  },
  {
   "cell_type": "code",
   "execution_count": 4,
   "metadata": {},
   "outputs": [],
   "source": [
    "for i in range(len(aiga_084_13)):\n",
    "    df1= pd.read_csv(r'C:\\Users\\BHAVESH\\IMARTICUS PYTHON TUTORIALS\\INTERNSHIP PROJECTS\\MOHIT HEART DATA\\aiga_084_13'+str(i)+'.csv')\n",
    "    if any(\"CO2\" in s for s in df1.columns):\n",
    "        continue\n",
    "    else:\n",
    "        if os.path.exists(r'C:\\Users\\BHAVESH\\IMARTICUS PYTHON TUTORIALS\\INTERNSHIP PROJECTS\\MOHIT HEART DATA\\aiga_084_13'+str(i)+'.csv'):\n",
    "            os.remove(r'C:\\Users\\BHAVESH\\IMARTICUS PYTHON TUTORIALS\\INTERNSHIP PROJECTS\\MOHIT HEART DATA\\aiga_084_13'+str(i)+'.csv')\n",
    "        else:\n",
    "            continue\n",
    "    \n",
    "\n",
    "\n"
   ]
  },
  {
   "cell_type": "code",
   "execution_count": null,
   "metadata": {},
   "outputs": [],
   "source": []
  },
  {
   "cell_type": "code",
   "execution_count": 5,
   "metadata": {},
   "outputs": [
    {
     "name": "stdout",
     "output_type": "stream",
     "text": [
      "4\n"
     ]
    }
   ],
   "source": [
    "pdf_path = r\"FULLTEXT011.pdf\"\n",
    "\n",
    "FULLTEXT01 = tabula.read_pdf(pdf_path, stream=True,pages='all')\n",
    "# read_pdf returns list of DataFrames\n",
    "print(len(FULLTEXT01))\n",
    "for i in range(len(FULLTEXT01)):\n",
    "    FULLTEXT01[i].to_csv('FULLTEXT01'+str(i)+'.csv')"
   ]
  },
  {
   "cell_type": "code",
   "execution_count": 6,
   "metadata": {},
   "outputs": [],
   "source": [
    "for i in range(len(FULLTEXT01)):\n",
    "    df2= pd.read_csv(r'C:\\Users\\BHAVESH\\IMARTICUS PYTHON TUTORIALS\\INTERNSHIP PROJECTS\\MOHIT HEART DATA\\FULLTEXT01'+str(i)+'.csv')\n",
    "    if any(\"CO2\" in s for s in df2.columns):\n",
    "        continue\n",
    "    else:\n",
    "        if os.path.exists(r'C:\\Users\\BHAVESH\\IMARTICUS PYTHON TUTORIALS\\INTERNSHIP PROJECTS\\MOHIT HEART DATA\\FULLTEXT01'+str(i)+'.csv'):\n",
    "            os.remove(r'C:\\Users\\BHAVESH\\IMARTICUS PYTHON TUTORIALS\\INTERNSHIP PROJECTS\\MOHIT HEART DATA\\FULLTEXT01'+str(i)+'.csv')\n",
    "        else:\n",
    "            continue"
   ]
  },
  {
   "cell_type": "code",
   "execution_count": 7,
   "metadata": {},
   "outputs": [],
   "source": [
    "# writer2 = pd.ExcelWriter('multiple.xlsx', engine='xlsxwriter')"
   ]
  },
  {
   "cell_type": "code",
   "execution_count": 8,
   "metadata": {},
   "outputs": [
    {
     "name": "stdout",
     "output_type": "stream",
     "text": [
      "1\n"
     ]
    }
   ],
   "source": [
    "pdf_path = r\"Hg-2019-Carbon-Footprint-Report1.pdf\"\n",
    "\n",
    "Hg_2019_Carbon = tabula.read_pdf(pdf_path, stream=True,pages='all')\n",
    "# read_pdf returns list of DataFrames\n",
    "print(len(Hg_2019_Carbon))\n",
    "for i in range(len(Hg_2019_Carbon)):\n",
    "    Hg_2019_Carbon[i].to_csv('Hg_2019_Carbon'+str(i)+'.csv')"
   ]
  },
  {
   "cell_type": "code",
   "execution_count": 9,
   "metadata": {},
   "outputs": [],
   "source": [
    "for i in range(len(Hg_2019_Carbon)):\n",
    "    df3= pd.read_csv(r'C:\\Users\\BHAVESH\\IMARTICUS PYTHON TUTORIALS\\INTERNSHIP PROJECTS\\MOHIT HEART DATA\\Hg_2019_Carbon'+str(i)+'.csv')\n",
    "    if any(\"CO2\" in s for s in df3.columns):\n",
    "        continue\n",
    "    else:\n",
    "        if os.path.exists(r'C:\\Users\\BHAVESH\\IMARTICUS PYTHON TUTORIALS\\INTERNSHIP PROJECTS\\MOHIT HEART DATA\\Hg_2019_Carbon'+str(i)+'.csv'):\n",
    "            os.remove(r'C:\\Users\\BHAVESH\\IMARTICUS PYTHON TUTORIALS\\INTERNSHIP PROJECTS\\MOHIT HEART DATA\\Hg_2019_Carbon'+str(i)+'.csv')\n",
    "        else:\n",
    "            continue"
   ]
  },
  {
   "cell_type": "code",
   "execution_count": 10,
   "metadata": {},
   "outputs": [
    {
     "name": "stdout",
     "output_type": "stream",
     "text": [
      "5\n"
     ]
    }
   ],
   "source": [
    "pdf_path = r\"NWM541Maitreyi CF Report1.pdf\"\n",
    "\n",
    "NWM541Maitreyi = tabula.read_pdf(pdf_path, stream=True,pages='all')\n",
    "# read_pdf returns list of DataFrames\n",
    "print(len(NWM541Maitreyi))\n",
    "for i in range(len(NWM541Maitreyi)):\n",
    "    NWM541Maitreyi[i].to_csv('NWM541Maitreyi'+str(i)+'.csv')"
   ]
  },
  {
   "cell_type": "code",
   "execution_count": 11,
   "metadata": {},
   "outputs": [],
   "source": [
    "for i in range(len(NWM541Maitreyi)):\n",
    "    df4= pd.read_csv(r'C:\\Users\\BHAVESH\\IMARTICUS PYTHON TUTORIALS\\INTERNSHIP PROJECTS\\MOHIT HEART DATA\\NWM541Maitreyi'+str(i)+'.csv')\n",
    "    if any(\"CO2\" in s for s in df4.columns):\n",
    "        continue\n",
    "\n",
    "    else:\n",
    "        if os.path.exists(r'C:\\Users\\BHAVESH\\IMARTICUS PYTHON TUTORIALS\\INTERNSHIP PROJECTS\\MOHIT HEART DATA\\NWM541Maitreyi'+str(i)+'.csv'):\n",
    "            os.remove(r'C:\\Users\\BHAVESH\\IMARTICUS PYTHON TUTORIALS\\INTERNSHIP PROJECTS\\MOHIT HEART DATA\\NWM541Maitreyi'+str(i)+'.csv')\n",
    "        else:\n",
    "            continue"
   ]
  },
  {
   "cell_type": "code",
   "execution_count": 12,
   "metadata": {},
   "outputs": [
    {
     "name": "stdout",
     "output_type": "stream",
     "text": [
      "14\n"
     ]
    }
   ],
   "source": [
    "pdf_path = r\"opg-ghg-footprint1.pdf\"\n",
    "\n",
    "opg_ghg_footprint = tabula.read_pdf(pdf_path, stream=True,pages='all')\n",
    "# read_pdf returns list of DataFrames\n",
    "print(len(opg_ghg_footprint))\n",
    "\n",
    "for i in range(len(opg_ghg_footprint)):\n",
    "    opg_ghg_footprint[i].to_csv('opg_ghg_footprint'+str(i)+'.csv')"
   ]
  },
  {
   "cell_type": "code",
   "execution_count": 13,
   "metadata": {},
   "outputs": [],
   "source": [
    "for i in range(len(opg_ghg_footprint)):\n",
    "    df5= pd.read_csv(r'C:\\Users\\BHAVESH\\IMARTICUS PYTHON TUTORIALS\\INTERNSHIP PROJECTS\\MOHIT HEART DATA\\opg_ghg_footprint'+str(i)+'.csv')\n",
    "    if any(\"CO2\" in s for s in df5.columns):\n",
    "        continue\n",
    "    else:\n",
    "        if os.path.exists(r'C:\\Users\\BHAVESH\\IMARTICUS PYTHON TUTORIALS\\INTERNSHIP PROJECTS\\MOHIT HEART DATA\\opg_ghg_footprint'+str(i)+'.csv'):\n",
    "            os.remove(r'C:\\Users\\BHAVESH\\IMARTICUS PYTHON TUTORIALS\\INTERNSHIP PROJECTS\\MOHIT HEART DATA\\opg_ghg_footprint'+str(i)+'.csv')\n",
    "        else:\n",
    "            continue"
   ]
  },
  {
   "cell_type": "code",
   "execution_count": 14,
   "metadata": {},
   "outputs": [
    {
     "name": "stderr",
     "output_type": "stream",
     "text": [
      "2021-05-15 21:38:15.134 WARNING tabula.io: Got stderr: May 15, 2021 9:37:53 PM org.apache.pdfbox.pdmodel.font.PDSimpleFont toUnicode\r\n",
      "WARNING: No Unicode mapping for 113 (127) in font DMHDZW+Cambria\r\n",
      "\n"
     ]
    },
    {
     "name": "stdout",
     "output_type": "stream",
     "text": [
      "51\n"
     ]
    }
   ],
   "source": [
    "pdf_path = r\"Shweta Srivastav PhD Thesis1.pdf\"\n",
    "\n",
    "Shweta_Srivastav = tabula.read_pdf(pdf_path, stream=True,pages='all')\n",
    "# read_pdf returns list of DataFrames\n",
    "print(len(Shweta_Srivastav))\n",
    "\n",
    "for i in range(len(Shweta_Srivastav)):\n",
    "    Shweta_Srivastav[i].to_csv('Shweta_Srivastav'+str(i)+'.csv')"
   ]
  },
  {
   "cell_type": "code",
   "execution_count": 15,
   "metadata": {},
   "outputs": [],
   "source": [
    "for i in range(len(Shweta_Srivastav)):\n",
    "    df6= pd.read_csv(r'C:\\Users\\BHAVESH\\IMARTICUS PYTHON TUTORIALS\\INTERNSHIP PROJECTS\\MOHIT HEART DATA\\Shweta_Srivastav'+str(i)+'.csv')\n",
    "    if any(\"CO2\" in s for s in df6.columns):\n",
    "        continue\n",
    "    else:\n",
    "        if os.path.exists(r'C:\\Users\\BHAVESH\\IMARTICUS PYTHON TUTORIALS\\INTERNSHIP PROJECTS\\MOHIT HEART DATA\\Shweta_Srivastav'+str(i)+'.csv'):\n",
    "            os.remove(r'C:\\Users\\BHAVESH\\IMARTICUS PYTHON TUTORIALS\\INTERNSHIP PROJECTS\\MOHIT HEART DATA\\Shweta_Srivastav'+str(i)+'.csv')\n",
    "        else:\n",
    "            continue"
   ]
  },
  {
   "cell_type": "code",
   "execution_count": 16,
   "metadata": {},
   "outputs": [
    {
     "name": "stderr",
     "output_type": "stream",
     "text": [
      "2021-05-15 21:38:19.693 WARNING tabula.io: Got stderr: May 15, 2021 9:38:16 PM org.apache.pdfbox.pdmodel.font.PDSimpleFont toUnicode\r\n",
      "WARNING: No Unicode mapping for gid00030 (1) in font MCBCCI+SourceSansRoman-Regular\r\n",
      "May 15, 2021 9:38:16 PM org.apache.pdfbox.pdmodel.font.PDSimpleFont toUnicode\r\n",
      "WARNING: No Unicode mapping for gid00035 (2) in font MCBCCI+SourceSansRoman-Regular\r\n",
      "May 15, 2021 9:38:16 PM org.apache.pdfbox.pdmodel.font.PDSimpleFont toUnicode\r\n",
      "WARNING: No Unicode mapping for gid00032 (3) in font MCBCCI+SourceSansRoman-Regular\r\n",
      "May 15, 2021 9:38:16 PM org.apache.pdfbox.pdmodel.font.PDSimpleFont toUnicode\r\n",
      "WARNING: No Unicode mapping for gid00038 (4) in font MCBCCI+SourceSansRoman-Regular\r\n",
      "May 15, 2021 9:38:16 PM org.apache.pdfbox.pdmodel.font.PDSimpleFont toUnicode\r\n",
      "WARNING: No Unicode mapping for gid00001 (5) in font MCBCCI+SourceSansRoman-Regular\r\n",
      "May 15, 2021 9:38:16 PM org.apache.pdfbox.pdmodel.font.PDSimpleFont toUnicode\r\n",
      "WARNING: No Unicode mapping for gid00033 (6) in font MCBCCI+SourceSansRoman-Regular\r\n",
      "May 15, 2021 9:38:16 PM org.apache.pdfbox.pdmodel.font.PDSimpleFont toUnicode\r\n",
      "WARNING: No Unicode mapping for gid00042 (7) in font MCBCCI+SourceSansRoman-Regular\r\n",
      "May 15, 2021 9:38:16 PM org.apache.pdfbox.pdmodel.font.PDSimpleFont toUnicode\r\n",
      "WARNING: No Unicode mapping for gid00045 (8) in font MCBCCI+SourceSansRoman-Regular\r\n",
      "May 15, 2021 9:38:16 PM org.apache.pdfbox.pdmodel.font.PDSimpleFont toUnicode\r\n",
      "WARNING: No Unicode mapping for gid00001 (1) in font MCBCCM+SourceSansRoman.613wght\r\n",
      "May 15, 2021 9:38:16 PM org.apache.pdfbox.pdmodel.font.PDSimpleFont toUnicode\r\n",
      "WARNING: No Unicode mapping for gid00048 (1) in font MCBCCO+SourceSansRoman-Bold\r\n",
      "May 15, 2021 9:38:16 PM org.apache.pdfbox.pdmodel.font.PDSimpleFont toUnicode\r\n",
      "WARNING: No Unicode mapping for gid00043 (2) in font MCBCCO+SourceSansRoman-Bold\r\n",
      "May 15, 2021 9:38:16 PM org.apache.pdfbox.pdmodel.font.PDSimpleFont toUnicode\r\n",
      "WARNING: No Unicode mapping for gid00031 (3) in font MCBCCO+SourceSansRoman-Bold\r\n",
      "May 15, 2021 9:38:16 PM org.apache.pdfbox.pdmodel.font.PDSimpleFont toUnicode\r\n",
      "WARNING: No Unicode mapping for gid00028 (4) in font MCBCCO+SourceSansRoman-Bold\r\n",
      "May 15, 2021 9:38:16 PM org.apache.pdfbox.pdmodel.font.PDSimpleFont toUnicode\r\n",
      "WARNING: No Unicode mapping for gid00047 (5) in font MCBCCO+SourceSansRoman-Bold\r\n",
      "May 15, 2021 9:38:16 PM org.apache.pdfbox.pdmodel.font.PDSimpleFont toUnicode\r\n",
      "WARNING: No Unicode mapping for gid00032 (6) in font MCBCCO+SourceSansRoman-Bold\r\n",
      "May 15, 2021 9:38:16 PM org.apache.pdfbox.pdmodel.font.PDSimpleFont toUnicode\r\n",
      "WARNING: No Unicode mapping for gid00046 (7) in font MCBCCO+SourceSansRoman-Bold\r\n",
      "May 15, 2021 9:38:16 PM org.apache.pdfbox.pdmodel.font.PDSimpleFont toUnicode\r\n",
      "WARNING: No Unicode mapping for gid00030 (1) in font MCBCCI+SourceSansRoman-Regular\r\n",
      "May 15, 2021 9:38:16 PM org.apache.pdfbox.pdmodel.font.PDSimpleFont toUnicode\r\n",
      "WARNING: No Unicode mapping for gid00035 (2) in font MCBCCI+SourceSansRoman-Regular\r\n",
      "May 15, 2021 9:38:16 PM org.apache.pdfbox.pdmodel.font.PDSimpleFont toUnicode\r\n",
      "WARNING: No Unicode mapping for gid00032 (3) in font MCBCCI+SourceSansRoman-Regular\r\n",
      "May 15, 2021 9:38:16 PM org.apache.pdfbox.pdmodel.font.PDSimpleFont toUnicode\r\n",
      "WARNING: No Unicode mapping for gid00038 (4) in font MCBCCI+SourceSansRoman-Regular\r\n",
      "May 15, 2021 9:38:16 PM org.apache.pdfbox.pdmodel.font.PDSimpleFont toUnicode\r\n",
      "WARNING: No Unicode mapping for gid00001 (5) in font MCBCCI+SourceSansRoman-Regular\r\n",
      "May 15, 2021 9:38:16 PM org.apache.pdfbox.pdmodel.font.PDSimpleFont toUnicode\r\n",
      "WARNING: No Unicode mapping for gid00033 (6) in font MCBCCI+SourceSansRoman-Regular\r\n",
      "May 15, 2021 9:38:16 PM org.apache.pdfbox.pdmodel.font.PDSimpleFont toUnicode\r\n",
      "WARNING: No Unicode mapping for gid00042 (7) in font MCBCCI+SourceSansRoman-Regular\r\n",
      "May 15, 2021 9:38:16 PM org.apache.pdfbox.pdmodel.font.PDSimpleFont toUnicode\r\n",
      "WARNING: No Unicode mapping for gid00045 (8) in font MCBCCI+SourceSansRoman-Regular\r\n",
      "May 15, 2021 9:38:16 PM org.apache.pdfbox.pdmodel.font.PDSimpleFont toUnicode\r\n",
      "WARNING: No Unicode mapping for gid00001 (1) in font MCBCCM+SourceSansRoman.613wght\r\n",
      "May 15, 2021 9:38:16 PM org.apache.pdfbox.pdmodel.font.PDSimpleFont toUnicode\r\n",
      "WARNING: No Unicode mapping for gid00048 (1) in font MCBCCO+SourceSansRoman-Bold\r\n",
      "May 15, 2021 9:38:16 PM org.apache.pdfbox.pdmodel.font.PDSimpleFont toUnicode\r\n",
      "WARNING: No Unicode mapping for gid00043 (2) in font MCBCCO+SourceSansRoman-Bold\r\n",
      "May 15, 2021 9:38:16 PM org.apache.pdfbox.pdmodel.font.PDSimpleFont toUnicode\r\n",
      "WARNING: No Unicode mapping for gid00031 (3) in font MCBCCO+SourceSansRoman-Bold\r\n",
      "May 15, 2021 9:38:16 PM org.apache.pdfbox.pdmodel.font.PDSimpleFont toUnicode\r\n",
      "WARNING: No Unicode mapping for gid00028 (4) in font MCBCCO+SourceSansRoman-Bold\r\n",
      "May 15, 2021 9:38:16 PM org.apache.pdfbox.pdmodel.font.PDSimpleFont toUnicode\r\n",
      "WARNING: No Unicode mapping for gid00047 (5) in font MCBCCO+SourceSansRoman-Bold\r\n",
      "May 15, 2021 9:38:16 PM org.apache.pdfbox.pdmodel.font.PDSimpleFont toUnicode\r\n",
      "WARNING: No Unicode mapping for gid00032 (6) in font MCBCCO+SourceSansRoman-Bold\r\n",
      "May 15, 2021 9:38:16 PM org.apache.pdfbox.pdmodel.font.PDSimpleFont toUnicode\r\n",
      "WARNING: No Unicode mapping for gid00046 (7) in font MCBCCO+SourceSansRoman-Bold\r\n",
      "May 15, 2021 9:38:17 PM org.apache.pdfbox.pdmodel.graphics.color.PDICCBased ensureDisplayProfile\r\n",
      "WARNING: ICC profile is Perceptual, ignoring, treating as Display class\r\n",
      "May 15, 2021 9:38:17 PM org.apache.pdfbox.pdmodel.graphics.color.PDICCBased ensureDisplayProfile\r\n",
      "WARNING: ICC profile is Perceptual, ignoring, treating as Display class\r\n",
      "\n"
     ]
    },
    {
     "name": "stdout",
     "output_type": "stream",
     "text": [
      "7\n"
     ]
    }
   ],
   "source": [
    "pdf_path = r\"sustainability-12-01629-v2 (1)1.pdf\"\n",
    "\n",
    "sustainability = tabula.read_pdf(pdf_path, stream=True,pages='all')\n",
    "# read_pdf returns list of DataFrames\n",
    "print(len(sustainability))\n",
    "\n",
    "for i in range(len(sustainability)):\n",
    "    sustainability[i].to_csv('sustainability'+str(i)+'.csv')"
   ]
  },
  {
   "cell_type": "code",
   "execution_count": 17,
   "metadata": {},
   "outputs": [],
   "source": [
    "for i in range(len(sustainability)):\n",
    "    df7= pd.read_csv(r'C:\\Users\\BHAVESH\\IMARTICUS PYTHON TUTORIALS\\INTERNSHIP PROJECTS\\MOHIT HEART DATA\\sustainability'+str(i)+'.csv')\n",
    "    if any(\"CO2\" in s for s in df7.columns):\n",
    "        continue\n",
    "    else:\n",
    "        if os.path.exists(r'C:\\Users\\BHAVESH\\IMARTICUS PYTHON TUTORIALS\\INTERNSHIP PROJECTS\\MOHIT HEART DATA\\sustainability'+str(i)+'.csv'):\n",
    "            os.remove(r'C:\\Users\\BHAVESH\\IMARTICUS PYTHON TUTORIALS\\INTERNSHIP PROJECTS\\MOHIT HEART DATA\\sustainability'+str(i)+'.csv')\n",
    "        else:\n",
    "            continue"
   ]
  },
  {
   "cell_type": "code",
   "execution_count": null,
   "metadata": {},
   "outputs": [],
   "source": []
  },
  {
   "cell_type": "code",
   "execution_count": 18,
   "metadata": {},
   "outputs": [],
   "source": []
  },
  {
   "cell_type": "code",
   "execution_count": 19,
   "metadata": {},
   "outputs": [],
   "source": [
    "import os\n",
    "import pandas as pd\n",
    "import glob\n",
    "\n",
    "path = r\"C:\\Users\\BHAVESH\\IMARTICUS PYTHON TUTORIALS\\INTERNSHIP PROJECTS\\MOHIT HEART DATA\\TRY\"\n",
    "all_files = glob.glob(os.path.join(path, \"*.csv\"))\n",
    "\n",
    "writer = pd.ExcelWriter('out.xlsx', engine='xlsxwriter')\n",
    "\n",
    "for f in all_files:\n",
    "    df = pd.read_csv(f)\n",
    "    df.to_excel(writer, sheet_name=os.path.splitext(os.path.basename(f))[0], index=False)\n",
    "\n",
    "writer.save()"
   ]
  },
  {
   "cell_type": "code",
   "execution_count": null,
   "metadata": {},
   "outputs": [],
   "source": []
  },
  {
   "cell_type": "code",
   "execution_count": null,
   "metadata": {},
   "outputs": [],
   "source": []
  }
 ],
 "metadata": {
  "kernelspec": {
   "display_name": "Python 3",
   "language": "python",
   "name": "python3"
  },
  "language_info": {
   "codemirror_mode": {
    "name": "ipython",
    "version": 3
   },
   "file_extension": ".py",
   "mimetype": "text/x-python",
   "name": "python",
   "nbconvert_exporter": "python",
   "pygments_lexer": "ipython3",
   "version": "3.8.3"
  }
 },
 "nbformat": 4,
 "nbformat_minor": 4
}
