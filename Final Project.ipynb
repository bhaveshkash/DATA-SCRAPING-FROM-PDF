{
 "cells": [
  {
   "cell_type": "code",
   "execution_count": null,
   "metadata": {},
   "outputs": [],
   "source": [
    "import tabula \n",
    "import pandas as pd\n",
    "from tabulate import tabulate\n",
    "from PyPDF2 import PdfFileReader\n",
    "import fitz\n",
    "import streamlit as st\n",
    "import os"
   ]
  },
  {
   "cell_type": "code",
   "execution_count": 2,
   "metadata": {},
   "outputs": [],
   "source": [
    "j=0"
   ]
  },
  {
   "cell_type": "code",
   "execution_count": 3,
   "metadata": {},
   "outputs": [
    {
     "name": "stdout",
     "output_type": "stream",
     "text": [
      "6\n",
      "4\n",
      "1\n",
      "5\n",
      "14\n"
     ]
    },
    {
     "name": "stderr",
     "output_type": "stream",
     "text": [
      "2021-05-14 16:47:21.278 WARNING tabula.io: Got stderr: May 14, 2021 4:46:27 PM org.apache.pdfbox.pdmodel.font.PDSimpleFont toUnicode\r\n",
      "WARNING: No Unicode mapping for 113 (127) in font DMHDZW+Cambria\r\n",
      "\n"
     ]
    },
    {
     "name": "stdout",
     "output_type": "stream",
     "text": [
      "51\n"
     ]
    },
    {
     "name": "stderr",
     "output_type": "stream",
     "text": [
      "2021-05-14 16:47:27.691 WARNING tabula.io: Got stderr: May 14, 2021 4:47:22 PM org.apache.pdfbox.pdmodel.font.PDSimpleFont toUnicode\r\n",
      "WARNING: No Unicode mapping for gid00030 (1) in font MCBCCI+SourceSansRoman-Regular\r\n",
      "May 14, 2021 4:47:22 PM org.apache.pdfbox.pdmodel.font.PDSimpleFont toUnicode\r\n",
      "WARNING: No Unicode mapping for gid00035 (2) in font MCBCCI+SourceSansRoman-Regular\r\n",
      "May 14, 2021 4:47:22 PM org.apache.pdfbox.pdmodel.font.PDSimpleFont toUnicode\r\n",
      "WARNING: No Unicode mapping for gid00032 (3) in font MCBCCI+SourceSansRoman-Regular\r\n",
      "May 14, 2021 4:47:22 PM org.apache.pdfbox.pdmodel.font.PDSimpleFont toUnicode\r\n",
      "WARNING: No Unicode mapping for gid00038 (4) in font MCBCCI+SourceSansRoman-Regular\r\n",
      "May 14, 2021 4:47:22 PM org.apache.pdfbox.pdmodel.font.PDSimpleFont toUnicode\r\n",
      "WARNING: No Unicode mapping for gid00001 (5) in font MCBCCI+SourceSansRoman-Regular\r\n",
      "May 14, 2021 4:47:22 PM org.apache.pdfbox.pdmodel.font.PDSimpleFont toUnicode\r\n",
      "WARNING: No Unicode mapping for gid00033 (6) in font MCBCCI+SourceSansRoman-Regular\r\n",
      "May 14, 2021 4:47:22 PM org.apache.pdfbox.pdmodel.font.PDSimpleFont toUnicode\r\n",
      "WARNING: No Unicode mapping for gid00042 (7) in font MCBCCI+SourceSansRoman-Regular\r\n",
      "May 14, 2021 4:47:22 PM org.apache.pdfbox.pdmodel.font.PDSimpleFont toUnicode\r\n",
      "WARNING: No Unicode mapping for gid00045 (8) in font MCBCCI+SourceSansRoman-Regular\r\n",
      "May 14, 2021 4:47:22 PM org.apache.pdfbox.pdmodel.font.PDSimpleFont toUnicode\r\n",
      "WARNING: No Unicode mapping for gid00001 (1) in font MCBCCM+SourceSansRoman.613wght\r\n",
      "May 14, 2021 4:47:22 PM org.apache.pdfbox.pdmodel.font.PDSimpleFont toUnicode\r\n",
      "WARNING: No Unicode mapping for gid00048 (1) in font MCBCCO+SourceSansRoman-Bold\r\n",
      "May 14, 2021 4:47:22 PM org.apache.pdfbox.pdmodel.font.PDSimpleFont toUnicode\r\n",
      "WARNING: No Unicode mapping for gid00043 (2) in font MCBCCO+SourceSansRoman-Bold\r\n",
      "May 14, 2021 4:47:22 PM org.apache.pdfbox.pdmodel.font.PDSimpleFont toUnicode\r\n",
      "WARNING: No Unicode mapping for gid00031 (3) in font MCBCCO+SourceSansRoman-Bold\r\n",
      "May 14, 2021 4:47:22 PM org.apache.pdfbox.pdmodel.font.PDSimpleFont toUnicode\r\n",
      "WARNING: No Unicode mapping for gid00028 (4) in font MCBCCO+SourceSansRoman-Bold\r\n",
      "May 14, 2021 4:47:22 PM org.apache.pdfbox.pdmodel.font.PDSimpleFont toUnicode\r\n",
      "WARNING: No Unicode mapping for gid00047 (5) in font MCBCCO+SourceSansRoman-Bold\r\n",
      "May 14, 2021 4:47:22 PM org.apache.pdfbox.pdmodel.font.PDSimpleFont toUnicode\r\n",
      "WARNING: No Unicode mapping for gid00032 (6) in font MCBCCO+SourceSansRoman-Bold\r\n",
      "May 14, 2021 4:47:22 PM org.apache.pdfbox.pdmodel.font.PDSimpleFont toUnicode\r\n",
      "WARNING: No Unicode mapping for gid00046 (7) in font MCBCCO+SourceSansRoman-Bold\r\n",
      "May 14, 2021 4:47:23 PM org.apache.pdfbox.pdmodel.font.PDSimpleFont toUnicode\r\n",
      "WARNING: No Unicode mapping for gid00030 (1) in font MCBCCI+SourceSansRoman-Regular\r\n",
      "May 14, 2021 4:47:23 PM org.apache.pdfbox.pdmodel.font.PDSimpleFont toUnicode\r\n",
      "WARNING: No Unicode mapping for gid00035 (2) in font MCBCCI+SourceSansRoman-Regular\r\n",
      "May 14, 2021 4:47:23 PM org.apache.pdfbox.pdmodel.font.PDSimpleFont toUnicode\r\n",
      "WARNING: No Unicode mapping for gid00032 (3) in font MCBCCI+SourceSansRoman-Regular\r\n",
      "May 14, 2021 4:47:23 PM org.apache.pdfbox.pdmodel.font.PDSimpleFont toUnicode\r\n",
      "WARNING: No Unicode mapping for gid00038 (4) in font MCBCCI+SourceSansRoman-Regular\r\n",
      "May 14, 2021 4:47:23 PM org.apache.pdfbox.pdmodel.font.PDSimpleFont toUnicode\r\n",
      "WARNING: No Unicode mapping for gid00001 (5) in font MCBCCI+SourceSansRoman-Regular\r\n",
      "May 14, 2021 4:47:23 PM org.apache.pdfbox.pdmodel.font.PDSimpleFont toUnicode\r\n",
      "WARNING: No Unicode mapping for gid00033 (6) in font MCBCCI+SourceSansRoman-Regular\r\n",
      "May 14, 2021 4:47:23 PM org.apache.pdfbox.pdmodel.font.PDSimpleFont toUnicode\r\n",
      "WARNING: No Unicode mapping for gid00042 (7) in font MCBCCI+SourceSansRoman-Regular\r\n",
      "May 14, 2021 4:47:23 PM org.apache.pdfbox.pdmodel.font.PDSimpleFont toUnicode\r\n",
      "WARNING: No Unicode mapping for gid00045 (8) in font MCBCCI+SourceSansRoman-Regular\r\n",
      "May 14, 2021 4:47:23 PM org.apache.pdfbox.pdmodel.font.PDSimpleFont toUnicode\r\n",
      "WARNING: No Unicode mapping for gid00001 (1) in font MCBCCM+SourceSansRoman.613wght\r\n",
      "May 14, 2021 4:47:23 PM org.apache.pdfbox.pdmodel.font.PDSimpleFont toUnicode\r\n",
      "WARNING: No Unicode mapping for gid00048 (1) in font MCBCCO+SourceSansRoman-Bold\r\n",
      "May 14, 2021 4:47:23 PM org.apache.pdfbox.pdmodel.font.PDSimpleFont toUnicode\r\n",
      "WARNING: No Unicode mapping for gid00043 (2) in font MCBCCO+SourceSansRoman-Bold\r\n",
      "May 14, 2021 4:47:23 PM org.apache.pdfbox.pdmodel.font.PDSimpleFont toUnicode\r\n",
      "WARNING: No Unicode mapping for gid00031 (3) in font MCBCCO+SourceSansRoman-Bold\r\n",
      "May 14, 2021 4:47:23 PM org.apache.pdfbox.pdmodel.font.PDSimpleFont toUnicode\r\n",
      "WARNING: No Unicode mapping for gid00028 (4) in font MCBCCO+SourceSansRoman-Bold\r\n",
      "May 14, 2021 4:47:23 PM org.apache.pdfbox.pdmodel.font.PDSimpleFont toUnicode\r\n",
      "WARNING: No Unicode mapping for gid00047 (5) in font MCBCCO+SourceSansRoman-Bold\r\n",
      "May 14, 2021 4:47:23 PM org.apache.pdfbox.pdmodel.font.PDSimpleFont toUnicode\r\n",
      "WARNING: No Unicode mapping for gid00032 (6) in font MCBCCO+SourceSansRoman-Bold\r\n",
      "May 14, 2021 4:47:23 PM org.apache.pdfbox.pdmodel.font.PDSimpleFont toUnicode\r\n",
      "WARNING: No Unicode mapping for gid00046 (7) in font MCBCCO+SourceSansRoman-Bold\r\n",
      "May 14, 2021 4:47:24 PM org.apache.pdfbox.pdmodel.graphics.color.PDICCBased ensureDisplayProfile\r\n",
      "WARNING: ICC profile is Perceptual, ignoring, treating as Display class\r\n",
      "May 14, 2021 4:47:25 PM org.apache.pdfbox.pdmodel.graphics.color.PDICCBased ensureDisplayProfile\r\n",
      "WARNING: ICC profile is Perceptual, ignoring, treating as Display class\r\n",
      "\n"
     ]
    },
    {
     "name": "stdout",
     "output_type": "stream",
     "text": [
      "7\n"
     ]
    }
   ],
   "source": [
    "\n",
    " \n",
    "directory = r'C:\\Users\\BHAVESH\\IMARTICUS PYTHON TUTORIALS\\INTERNSHIP PROJECTS\\MOHIT PAID FREELANCE PROJECTS'\n",
    "for filename in os.listdir(directory):\n",
    "    f = os.path.join(directory, filename)\n",
    "    if os.path.isfile(f) and filename.endswith('.pdf'):\n",
    "        \n",
    "        #pdf_path = r\"sustainability-12-01629-v2 (1).pdf\"\n",
    "\n",
    "        excel = tabula.read_pdf(f, stream=True,pages='all')\n",
    "        # read_pdf returns list of DataFrames\n",
    "        print(len(excel))\n",
    "\n",
    "        for i in range(len(excel)):\n",
    "            excel[i].to_csv('F'+str(j)+'.csv')\n",
    "            j+=1\n",
    "        "
   ]
  },
  {
   "cell_type": "code",
   "execution_count": 1,
   "metadata": {},
   "outputs": [],
   "source": [
    "# for i in range(88):\n",
    "#     import csv\n",
    "#     with open(r'C:\\Users\\BHAVESH\\IMARTICUS PYTHON TUTORIALS\\INTERNSHIP PROJECTS\\MOHIT PAID FREELANCE PROJECTS\\F'+str(i)+'.csv', 'r') as f:\n",
    "#         for line in f.readlines():\n",
    "#             if 'CO2' in line:\n",
    "#                 continue\n",
    "#             else:\n",
    "#                 if os.path.exists(r'C:\\Users\\BHAVESH\\IMARTICUS PYTHON TUTORIALS\\INTERNSHIP PROJECTS\\MOHIT PAID FREELANCE PROJECTS\\F'+str(i)+'.csv'):\n",
    "#                     os.remove(r'C:\\Users\\BHAVESH\\IMARTICUS PYTHON TUTORIALS\\INTERNSHIP PROJECTS\\MOHIT PAID FREELANCE PROJECTS\\F'+str(i)+'.csv')\n",
    "writer = pd.ExcelWriter('multiple.xlsx', engine='xlsxwriter')"
   ]
  },
  {
   "cell_type": "code",
   "execution_count": 4,
   "metadata": {},
   "outputs": [],
   "source": [
    "for i in range(88):\n",
    "    df= pd.read_csv(r'C:\\Users\\BHAVESH\\IMARTICUS PYTHON TUTORIALS\\INTERNSHIP PROJECTS\\MOHIT PAID FREELANCE PROJECTS' +'\\F'+str(i)+'.csv')\n",
    "    if any(\"CO2\" in s for s in df.columns):\n",
    "        excel_file = pd.ExcelFile(f)\n",
    "    else:\n",
    "        if os.path.exists(r'C:\\Users\\BHAVESH\\IMARTICUS PYTHON TUTORIALS\\INTERNSHIP PROJECTS\\MOHIT PAID FREELANCE PROJECTS\\F'+str(i)+'.csv'):\n",
    "            os.remove(r'C:\\Users\\BHAVESH\\IMARTICUS PYTHON TUTORIALS\\INTERNSHIP PROJECTS\\MOHIT PAID FREELANCE PROJECTS\\F'+str(i)+'.csv')\n",
    "        else:\n",
    "            continue"
   ]
  },
  {
   "cell_type": "code",
   "execution_count": null,
   "metadata": {},
   "outputs": [],
   "source": []
  },
  {
   "cell_type": "code",
   "execution_count": null,
   "metadata": {},
   "outputs": [],
   "source": []
  },
  {
   "cell_type": "code",
   "execution_count": null,
   "metadata": {},
   "outputs": [],
   "source": []
  },
  {
   "cell_type": "code",
   "execution_count": null,
   "metadata": {},
   "outputs": [],
   "source": []
  },
  {
   "cell_type": "code",
   "execution_count": null,
   "metadata": {},
   "outputs": [],
   "source": []
  },
  {
   "cell_type": "code",
   "execution_count": null,
   "metadata": {},
   "outputs": [],
   "source": []
  },
  {
   "cell_type": "code",
   "execution_count": null,
   "metadata": {},
   "outputs": [],
   "source": []
  },
  {
   "cell_type": "code",
   "execution_count": null,
   "metadata": {},
   "outputs": [],
   "source": []
  },
  {
   "cell_type": "code",
   "execution_count": null,
   "metadata": {},
   "outputs": [],
   "source": []
  }
 ],
 "metadata": {
  "kernelspec": {
   "display_name": "Python 3",
   "language": "python",
   "name": "python3"
  },
  "language_info": {
   "codemirror_mode": {
    "name": "ipython",
    "version": 3
   },
   "file_extension": ".py",
   "mimetype": "text/x-python",
   "name": "python",
   "nbconvert_exporter": "python",
   "pygments_lexer": "ipython3",
   "version": "3.8.3"
  }
 },
 "nbformat": 4,
 "nbformat_minor": 4
}
